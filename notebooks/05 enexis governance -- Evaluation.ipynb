{
 "cells": [
  {
   "cell_type": "markdown",
   "id": "db1f8280",
   "metadata": {},
   "source": [
    "# 05 - Topic and Cluster evaluation\n",
    "This notebooks evaluates the results from the LSA and cluster analysis on the duurzaamheidsvisies. The results of both analyses are imported from a parquet file. The evaluation data are imported from preprocessed CSV files."
   ]
  },
  {
   "cell_type": "code",
   "execution_count": 1,
   "id": "039b9a56",
   "metadata": {},
   "outputs": [],
   "source": [
    "import pandas as pd\n",
    "from matplotlib import pyplot as plt\n",
    "import seaborn as sns\n",
    "from scipy.stats import chi2_contingency"
   ]
  },
  {
   "cell_type": "code",
   "execution_count": 2,
   "id": "68cd45e3",
   "metadata": {},
   "outputs": [
    {
     "data": {
      "text/plain": [
       "['samenleving', 'milieu', 'mens en natuur', 'energie']"
      ]
     },
     "execution_count": 2,
     "metadata": {},
     "output_type": "execute_result"
    }
   ],
   "source": [
    "# read files containing topics, clusters and evaluation data\n",
    "lsa_topics = pd.read_parquet(\"../data/Governance/LSA_document_topic_matrix.parquet\")\n",
    "kmeans_clusters = pd.read_parquet(\"../data/Governance/Kmeans_clusters.parquet\")\n",
    "documents = pd.read_csv(\"../data/Governance/Duurzaamheidsvisies.csv\")\n",
    "documents['Jaar'] = documents['Jaar'].fillna('0000').astype(\"string\").str.slice(0, 4)\n",
    "gemeenten = pd.read_parquet(\"../data/CBS/Evaluation_data.parquet\")\n",
    "\n",
    "TOPICS=list(lsa_topics.columns)\n",
    "TOPICS"
   ]
  },
  {
   "cell_type": "code",
   "execution_count": 3,
   "id": "b229de6f",
   "metadata": {},
   "outputs": [],
   "source": [
    "# compose a dataframe with all information related to LSA topics\n",
    "lsa_topics = lsa_topics.merge(documents, how=\"left\", left_index=True, right_on='DocID')\n",
    "lsa_topics['GM_Code'] = lsa_topics['DocID'].str.slice(0, 6)\n",
    "lsa_topics = lsa_topics.merge(gemeenten, how=\"left\", on='GM_Code')\n"
   ]
  },
  {
   "cell_type": "code",
   "execution_count": 4,
   "id": "4cbcf94d",
   "metadata": {},
   "outputs": [],
   "source": [
    "# compose a dataframe with all information related to K-means clusters\n",
    "kmeans_clusters = kmeans_clusters.merge(documents, how=\"left\", left_index=True, right_on='DocID')\n",
    "kmeans_clusters['GM_Code'] = kmeans_clusters['DocID'].str.slice(0, 6)\n",
    "kmeans_clusters = kmeans_clusters.merge(gemeenten, how=\"left\", on='GM_Code')\n"
   ]
  },
  {
   "cell_type": "code",
   "execution_count": 5,
   "id": "41e3cb46",
   "metadata": {},
   "outputs": [
    {
     "data": {
      "text/html": [
       "<div>\n",
       "<style scoped>\n",
       "    .dataframe tbody tr th:only-of-type {\n",
       "        vertical-align: middle;\n",
       "    }\n",
       "\n",
       "    .dataframe tbody tr th {\n",
       "        vertical-align: top;\n",
       "    }\n",
       "\n",
       "    .dataframe thead th {\n",
       "        text-align: right;\n",
       "    }\n",
       "</style>\n",
       "<table border=\"1\" class=\"dataframe\">\n",
       "  <thead>\n",
       "    <tr style=\"text-align: right;\">\n",
       "      <th></th>\n",
       "      <th>DocID</th>\n",
       "      <th>Gemeente</th>\n",
       "      <th>milieu</th>\n",
       "      <th>Titel</th>\n",
       "      <th>Jaar</th>\n",
       "    </tr>\n",
       "  </thead>\n",
       "  <tbody>\n",
       "    <tr>\n",
       "      <th>15</th>\n",
       "      <td>GM0063DV01</td>\n",
       "      <td>het Bildt</td>\n",
       "      <td>0.430572</td>\n",
       "      <td>Milieubeleidsplan</td>\n",
       "      <td>2015</td>\n",
       "    </tr>\n",
       "    <tr>\n",
       "      <th>219</th>\n",
       "      <td>GM1729DV01</td>\n",
       "      <td>Gulpen-Wittem</td>\n",
       "      <td>0.419633</td>\n",
       "      <td>Milieubeleidsplan 2013-2016</td>\n",
       "      <td>2013</td>\n",
       "    </tr>\n",
       "    <tr>\n",
       "      <th>155</th>\n",
       "      <td>GM0733DV01</td>\n",
       "      <td>Lingewaal</td>\n",
       "      <td>0.415021</td>\n",
       "      <td>Kadernota Milieu</td>\n",
       "      <td>0000</td>\n",
       "    </tr>\n",
       "    <tr>\n",
       "      <th>208</th>\n",
       "      <td>GM1695DV01</td>\n",
       "      <td>Noord-Beveland</td>\n",
       "      <td>0.405778</td>\n",
       "      <td>MILIEU-UITVOERINGSPLAN 2011-2014 GEMEENTE NOOR...</td>\n",
       "      <td>2010</td>\n",
       "    </tr>\n",
       "    <tr>\n",
       "      <th>199</th>\n",
       "      <td>GM1651DV01</td>\n",
       "      <td>Eemsmond</td>\n",
       "      <td>0.392636</td>\n",
       "      <td>Milieujaarprogramma 2014</td>\n",
       "      <td>2014</td>\n",
       "    </tr>\n",
       "    <tr>\n",
       "      <th>182</th>\n",
       "      <td>GM0873DV01</td>\n",
       "      <td>Woensdrecht</td>\n",
       "      <td>0.390688</td>\n",
       "      <td>Milieu- en Duurzaamheidsbeleid 2012-2016</td>\n",
       "      <td>2012</td>\n",
       "    </tr>\n",
       "    <tr>\n",
       "      <th>46</th>\n",
       "      <td>GM0230DV01</td>\n",
       "      <td>Elburg</td>\n",
       "      <td>0.383145</td>\n",
       "      <td>Milieubeleidsplan Gemeente Elburg 2010-2013</td>\n",
       "      <td>2013</td>\n",
       "    </tr>\n",
       "    <tr>\n",
       "      <th>244</th>\n",
       "      <td>GM1987DV01</td>\n",
       "      <td>Menterwolde</td>\n",
       "      <td>0.381894</td>\n",
       "      <td>Milieubeleidsplan 2011</td>\n",
       "      <td>2011</td>\n",
       "    </tr>\n",
       "    <tr>\n",
       "      <th>149</th>\n",
       "      <td>GM0668DV01</td>\n",
       "      <td>West Maas en Waal</td>\n",
       "      <td>0.380308</td>\n",
       "      <td>milieubeleidsvisie</td>\n",
       "      <td>2013</td>\n",
       "    </tr>\n",
       "    <tr>\n",
       "      <th>150</th>\n",
       "      <td>GM0678DV01</td>\n",
       "      <td>Kapelle</td>\n",
       "      <td>0.377398</td>\n",
       "      <td>Leefomgevingsplan 2010-2014</td>\n",
       "      <td>2010</td>\n",
       "    </tr>\n",
       "    <tr>\n",
       "      <th>2</th>\n",
       "      <td>GM0007DV01</td>\n",
       "      <td>Bellingwedde</td>\n",
       "      <td>0.367682</td>\n",
       "      <td>Milieubeleidsprogramma 2007-2015</td>\n",
       "      <td>2007</td>\n",
       "    </tr>\n",
       "    <tr>\n",
       "      <th>241</th>\n",
       "      <td>GM1955DV01</td>\n",
       "      <td>Montferland</td>\n",
       "      <td>0.359891</td>\n",
       "      <td>Milieuprogramma 2014</td>\n",
       "      <td>2014</td>\n",
       "    </tr>\n",
       "    <tr>\n",
       "      <th>1</th>\n",
       "      <td>GM0005DV01</td>\n",
       "      <td>Bedum</td>\n",
       "      <td>0.357809</td>\n",
       "      <td>Milieubeleidsplan 2009-2012</td>\n",
       "      <td>2009</td>\n",
       "    </tr>\n",
       "    <tr>\n",
       "      <th>53</th>\n",
       "      <td>GM0274DV01</td>\n",
       "      <td>Renkum</td>\n",
       "      <td>0.342638</td>\n",
       "      <td>Milieuvisie 2013-2016</td>\n",
       "      <td>2013</td>\n",
       "    </tr>\n",
       "    <tr>\n",
       "      <th>138</th>\n",
       "      <td>GM0617DV01</td>\n",
       "      <td>Strijen</td>\n",
       "      <td>0.342188</td>\n",
       "      <td>Milieu Uitvoerings Programma MUP) 2011</td>\n",
       "      <td>2010</td>\n",
       "    </tr>\n",
       "    <tr>\n",
       "      <th>126</th>\n",
       "      <td>GM0584DV02</td>\n",
       "      <td>Oud-Beijerland</td>\n",
       "      <td>0.322850</td>\n",
       "      <td>Milieubeleidsplan 2016-2019</td>\n",
       "      <td>2016</td>\n",
       "    </tr>\n",
       "    <tr>\n",
       "      <th>133</th>\n",
       "      <td>GM0603DV04</td>\n",
       "      <td>Rijswijk (ZH.)</td>\n",
       "      <td>0.318847</td>\n",
       "      <td>Milieubeleidsplan 2012-2020</td>\n",
       "      <td>2012</td>\n",
       "    </tr>\n",
       "    <tr>\n",
       "      <th>134</th>\n",
       "      <td>GM0606DV01</td>\n",
       "      <td>Schiedam</td>\n",
       "      <td>0.307854</td>\n",
       "      <td>Milieubeleidsplan</td>\n",
       "      <td>2009</td>\n",
       "    </tr>\n",
       "    <tr>\n",
       "      <th>115</th>\n",
       "      <td>GM0537DV01</td>\n",
       "      <td>Katwijk</td>\n",
       "      <td>0.302203</td>\n",
       "      <td>milieubeleidsplan</td>\n",
       "      <td>2009</td>\n",
       "    </tr>\n",
       "    <tr>\n",
       "      <th>198</th>\n",
       "      <td>GM1640DV01</td>\n",
       "      <td>Leudal</td>\n",
       "      <td>0.299064</td>\n",
       "      <td>Duurzaamheidsprogramma - Gemeente Leudal</td>\n",
       "      <td>2013</td>\n",
       "    </tr>\n",
       "  </tbody>\n",
       "</table>\n",
       "</div>"
      ],
      "text/plain": [
       "          DocID           Gemeente    milieu  \\\n",
       "15   GM0063DV01          het Bildt  0.430572   \n",
       "219  GM1729DV01      Gulpen-Wittem  0.419633   \n",
       "155  GM0733DV01          Lingewaal  0.415021   \n",
       "208  GM1695DV01     Noord-Beveland  0.405778   \n",
       "199  GM1651DV01           Eemsmond  0.392636   \n",
       "182  GM0873DV01        Woensdrecht  0.390688   \n",
       "46   GM0230DV01             Elburg  0.383145   \n",
       "244  GM1987DV01        Menterwolde  0.381894   \n",
       "149  GM0668DV01  West Maas en Waal  0.380308   \n",
       "150  GM0678DV01            Kapelle  0.377398   \n",
       "2    GM0007DV01       Bellingwedde  0.367682   \n",
       "241  GM1955DV01        Montferland  0.359891   \n",
       "1    GM0005DV01              Bedum  0.357809   \n",
       "53   GM0274DV01             Renkum  0.342638   \n",
       "138  GM0617DV01            Strijen  0.342188   \n",
       "126  GM0584DV02     Oud-Beijerland  0.322850   \n",
       "133  GM0603DV04     Rijswijk (ZH.)  0.318847   \n",
       "134  GM0606DV01           Schiedam  0.307854   \n",
       "115  GM0537DV01            Katwijk  0.302203   \n",
       "198  GM1640DV01             Leudal  0.299064   \n",
       "\n",
       "                                                 Titel  Jaar  \n",
       "15                                   Milieubeleidsplan  2015  \n",
       "219                        Milieubeleidsplan 2013-2016  2013  \n",
       "155                                   Kadernota Milieu  0000  \n",
       "208  MILIEU-UITVOERINGSPLAN 2011-2014 GEMEENTE NOOR...  2010  \n",
       "199                           Milieujaarprogramma 2014  2014  \n",
       "182           Milieu- en Duurzaamheidsbeleid 2012-2016  2012  \n",
       "46         Milieubeleidsplan Gemeente Elburg 2010-2013  2013  \n",
       "244                             Milieubeleidsplan 2011  2011  \n",
       "149                                milieubeleidsvisie   2013  \n",
       "150                        Leefomgevingsplan 2010-2014  2010  \n",
       "2                     Milieubeleidsprogramma 2007-2015  2007  \n",
       "241                               Milieuprogramma 2014  2014  \n",
       "1                          Milieubeleidsplan 2009-2012  2009  \n",
       "53                               Milieuvisie 2013-2016  2013  \n",
       "138             Milieu Uitvoerings Programma MUP) 2011  2010  \n",
       "126                        Milieubeleidsplan 2016-2019  2016  \n",
       "133                        Milieubeleidsplan 2012-2020  2012  \n",
       "134                                  Milieubeleidsplan  2009  \n",
       "115                                  milieubeleidsplan  2009  \n",
       "198           Duurzaamheidsprogramma - Gemeente Leudal  2013  "
      ]
     },
     "execution_count": 5,
     "metadata": {},
     "output_type": "execute_result"
    }
   ],
   "source": [
    "lsa_topics.loc[:, ['DocID', 'Gemeente', 'milieu', 'Titel', 'Jaar']].sort_values('milieu', ascending=False)[0:20]\n"
   ]
  },
  {
   "cell_type": "code",
   "execution_count": 6,
   "id": "04e3829b",
   "metadata": {},
   "outputs": [
    {
     "data": {
      "image/png": "[encoded data removed]",
      "text/plain": [
       "<Figure size 640x480 with 1 Axes>"
      ]
     },
     "metadata": {},
     "output_type": "display_data"
    }
   ],
   "source": [
    "sns.boxplot(data=lsa_topics.sort_values('Jaar'), x='Jaar', y='milieu', color=\"blue\");\n"
   ]
  },
  {
   "cell_type": "markdown",
   "id": "ce10a43c",
   "metadata": {},
   "source": [
    "Duurzaamheidsvisies die hoog score op het topic \"milieu\" zijn inderdaad vaker milieubeleidsplannen dan (integrale) duurzaamheidsvisies. Deze documenten zijn over het algemeen ook iets ouder dan de documenten met een lagere waarde voor het topic \"milieu\". Dit kan mede te maken hebben met de invoering van de omgevingsdiensten in 2013, waarbij veel van de uitvoerende taken op het gebied van milieu overgeheveld zijn van gemeenten naar omgevingsdiensten."
   ]
  },
  {
   "cell_type": "code",
   "execution_count": 7,
   "id": "7e07ee91",
   "metadata": {},
   "outputs": [
    {
     "ename": "KeyError",
     "evalue": "\"['ruimtelijke inrichting'] not in index\"",
     "output_type": "error",
     "traceback": [
      "\u001b[0;31m---------------------------------------------------------------------------\u001b[0m",
      "\u001b[0;31mKeyError\u001b[0m                                  Traceback (most recent call last)",
      "Cell \u001b[0;32mIn[7], line 1\u001b[0m\n\u001b[0;32m----> 1\u001b[0m \u001b[43mlsa_topics\u001b[49m\u001b[38;5;241;43m.\u001b[39;49m\u001b[43mloc\u001b[49m\u001b[43m[\u001b[49m\u001b[43m:\u001b[49m\u001b[43m,\u001b[49m\u001b[43m \u001b[49m\u001b[43m[\u001b[49m\u001b[38;5;124;43m'\u001b[39;49m\u001b[38;5;124;43mDocID\u001b[39;49m\u001b[38;5;124;43m'\u001b[39;49m\u001b[43m,\u001b[49m\u001b[43m \u001b[49m\u001b[38;5;124;43m'\u001b[39;49m\u001b[38;5;124;43mGemeente\u001b[39;49m\u001b[38;5;124;43m'\u001b[39;49m\u001b[43m,\u001b[49m\u001b[43m \u001b[49m\u001b[38;5;124;43m'\u001b[39;49m\u001b[38;5;124;43mruimtelijke inrichting\u001b[39;49m\u001b[38;5;124;43m'\u001b[39;49m\u001b[43m,\u001b[49m\u001b[43m \u001b[49m\u001b[38;5;124;43m'\u001b[39;49m\u001b[38;5;124;43mTitel\u001b[39;49m\u001b[38;5;124;43m'\u001b[39;49m\u001b[43m,\u001b[49m\u001b[43m \u001b[49m\u001b[38;5;124;43m'\u001b[39;49m\u001b[38;5;124;43mJaar\u001b[39;49m\u001b[38;5;124;43m'\u001b[39;49m\u001b[43m]\u001b[49m\u001b[43m]\u001b[49m\u001b[38;5;241m.\u001b[39msort_values(\u001b[38;5;124m'\u001b[39m\u001b[38;5;124mruimtelijke inrichting\u001b[39m\u001b[38;5;124m'\u001b[39m, ascending\u001b[38;5;241m=\u001b[39m\u001b[38;5;28;01mFalse\u001b[39;00m)[\u001b[38;5;241m0\u001b[39m:\u001b[38;5;241m20\u001b[39m]\n",
      "File \u001b[0;32m/opt/conda/lib/python3.11/site-packages/pandas/core/indexing.py:1097\u001b[0m, in \u001b[0;36m_LocationIndexer.__getitem__\u001b[0;34m(self, key)\u001b[0m\n\u001b[1;32m   1095\u001b[0m     \u001b[38;5;28;01mif\u001b[39;00m \u001b[38;5;28mself\u001b[39m\u001b[38;5;241m.\u001b[39m_is_scalar_access(key):\n\u001b[1;32m   1096\u001b[0m         \u001b[38;5;28;01mreturn\u001b[39;00m \u001b[38;5;28mself\u001b[39m\u001b[38;5;241m.\u001b[39mobj\u001b[38;5;241m.\u001b[39m_get_value(\u001b[38;5;241m*\u001b[39mkey, takeable\u001b[38;5;241m=\u001b[39m\u001b[38;5;28mself\u001b[39m\u001b[38;5;241m.\u001b[39m_takeable)\n\u001b[0;32m-> 1097\u001b[0m     \u001b[38;5;28;01mreturn\u001b[39;00m \u001b[38;5;28;43mself\u001b[39;49m\u001b[38;5;241;43m.\u001b[39;49m\u001b[43m_getitem_tuple\u001b[49m\u001b[43m(\u001b[49m\u001b[43mkey\u001b[49m\u001b[43m)\u001b[49m\n\u001b[1;32m   1098\u001b[0m \u001b[38;5;28;01melse\u001b[39;00m:\n\u001b[1;32m   1099\u001b[0m     \u001b[38;5;66;03m# we by definition only have the 0th axis\u001b[39;00m\n\u001b[1;32m   1100\u001b[0m     axis \u001b[38;5;241m=\u001b[39m \u001b[38;5;28mself\u001b[39m\u001b[38;5;241m.\u001b[39maxis \u001b[38;5;129;01mor\u001b[39;00m \u001b[38;5;241m0\u001b[39m\n",
      "File \u001b[0;32m/opt/conda/lib/python3.11/site-packages/pandas/core/indexing.py:1289\u001b[0m, in \u001b[0;36m_LocIndexer._getitem_tuple\u001b[0;34m(self, tup)\u001b[0m\n\u001b[1;32m   1286\u001b[0m \u001b[38;5;28;01mif\u001b[39;00m \u001b[38;5;28mself\u001b[39m\u001b[38;5;241m.\u001b[39m_multi_take_opportunity(tup):\n\u001b[1;32m   1287\u001b[0m     \u001b[38;5;28;01mreturn\u001b[39;00m \u001b[38;5;28mself\u001b[39m\u001b[38;5;241m.\u001b[39m_multi_take(tup)\n\u001b[0;32m-> 1289\u001b[0m \u001b[38;5;28;01mreturn\u001b[39;00m \u001b[38;5;28;43mself\u001b[39;49m\u001b[38;5;241;43m.\u001b[39;49m\u001b[43m_getitem_tuple_same_dim\u001b[49m\u001b[43m(\u001b[49m\u001b[43mtup\u001b[49m\u001b[43m)\u001b[49m\n",
      "File \u001b[0;32m/opt/conda/lib/python3.11/site-packages/pandas/core/indexing.py:955\u001b[0m, in \u001b[0;36m_LocationIndexer._getitem_tuple_same_dim\u001b[0;34m(self, tup)\u001b[0m\n\u001b[1;32m    952\u001b[0m \u001b[38;5;28;01mif\u001b[39;00m com\u001b[38;5;241m.\u001b[39mis_null_slice(key):\n\u001b[1;32m    953\u001b[0m     \u001b[38;5;28;01mcontinue\u001b[39;00m\n\u001b[0;32m--> 955\u001b[0m retval \u001b[38;5;241m=\u001b[39m \u001b[38;5;28;43mgetattr\u001b[39;49m\u001b[43m(\u001b[49m\u001b[43mretval\u001b[49m\u001b[43m,\u001b[49m\u001b[43m \u001b[49m\u001b[38;5;28;43mself\u001b[39;49m\u001b[38;5;241;43m.\u001b[39;49m\u001b[43mname\u001b[49m\u001b[43m)\u001b[49m\u001b[38;5;241;43m.\u001b[39;49m\u001b[43m_getitem_axis\u001b[49m\u001b[43m(\u001b[49m\u001b[43mkey\u001b[49m\u001b[43m,\u001b[49m\u001b[43m \u001b[49m\u001b[43maxis\u001b[49m\u001b[38;5;241;43m=\u001b[39;49m\u001b[43mi\u001b[49m\u001b[43m)\u001b[49m\n\u001b[1;32m    956\u001b[0m \u001b[38;5;66;03m# We should never have retval.ndim < self.ndim, as that should\u001b[39;00m\n\u001b[1;32m    957\u001b[0m \u001b[38;5;66;03m#  be handled by the _getitem_lowerdim call above.\u001b[39;00m\n\u001b[1;32m    958\u001b[0m \u001b[38;5;28;01massert\u001b[39;00m retval\u001b[38;5;241m.\u001b[39mndim \u001b[38;5;241m==\u001b[39m \u001b[38;5;28mself\u001b[39m\u001b[38;5;241m.\u001b[39mndim\n",
      "File \u001b[0;32m/opt/conda/lib/python3.11/site-packages/pandas/core/indexing.py:1332\u001b[0m, in \u001b[0;36m_LocIndexer._getitem_axis\u001b[0;34m(self, key, axis)\u001b[0m\n\u001b[1;32m   1329\u001b[0m     \u001b[38;5;28;01mif\u001b[39;00m \u001b[38;5;28mhasattr\u001b[39m(key, \u001b[38;5;124m\"\u001b[39m\u001b[38;5;124mndim\u001b[39m\u001b[38;5;124m\"\u001b[39m) \u001b[38;5;129;01mand\u001b[39;00m key\u001b[38;5;241m.\u001b[39mndim \u001b[38;5;241m>\u001b[39m \u001b[38;5;241m1\u001b[39m:\n\u001b[1;32m   1330\u001b[0m         \u001b[38;5;28;01mraise\u001b[39;00m \u001b[38;5;167;01mValueError\u001b[39;00m(\u001b[38;5;124m\"\u001b[39m\u001b[38;5;124mCannot index with multidimensional key\u001b[39m\u001b[38;5;124m\"\u001b[39m)\n\u001b[0;32m-> 1332\u001b[0m     \u001b[38;5;28;01mreturn\u001b[39;00m \u001b[38;5;28;43mself\u001b[39;49m\u001b[38;5;241;43m.\u001b[39;49m\u001b[43m_getitem_iterable\u001b[49m\u001b[43m(\u001b[49m\u001b[43mkey\u001b[49m\u001b[43m,\u001b[49m\u001b[43m \u001b[49m\u001b[43maxis\u001b[49m\u001b[38;5;241;43m=\u001b[39;49m\u001b[43maxis\u001b[49m\u001b[43m)\u001b[49m\n\u001b[1;32m   1334\u001b[0m \u001b[38;5;66;03m# nested tuple slicing\u001b[39;00m\n\u001b[1;32m   1335\u001b[0m \u001b[38;5;28;01mif\u001b[39;00m is_nested_tuple(key, labels):\n",
      "File \u001b[0;32m/opt/conda/lib/python3.11/site-packages/pandas/core/indexing.py:1272\u001b[0m, in \u001b[0;36m_LocIndexer._getitem_iterable\u001b[0;34m(self, key, axis)\u001b[0m\n\u001b[1;32m   1269\u001b[0m \u001b[38;5;28mself\u001b[39m\u001b[38;5;241m.\u001b[39m_validate_key(key, axis)\n\u001b[1;32m   1271\u001b[0m \u001b[38;5;66;03m# A collection of keys\u001b[39;00m\n\u001b[0;32m-> 1272\u001b[0m keyarr, indexer \u001b[38;5;241m=\u001b[39m \u001b[38;5;28;43mself\u001b[39;49m\u001b[38;5;241;43m.\u001b[39;49m\u001b[43m_get_listlike_indexer\u001b[49m\u001b[43m(\u001b[49m\u001b[43mkey\u001b[49m\u001b[43m,\u001b[49m\u001b[43m \u001b[49m\u001b[43maxis\u001b[49m\u001b[43m)\u001b[49m\n\u001b[1;32m   1273\u001b[0m \u001b[38;5;28;01mreturn\u001b[39;00m \u001b[38;5;28mself\u001b[39m\u001b[38;5;241m.\u001b[39mobj\u001b[38;5;241m.\u001b[39m_reindex_with_indexers(\n\u001b[1;32m   1274\u001b[0m     {axis: [keyarr, indexer]}, copy\u001b[38;5;241m=\u001b[39m\u001b[38;5;28;01mTrue\u001b[39;00m, allow_dups\u001b[38;5;241m=\u001b[39m\u001b[38;5;28;01mTrue\u001b[39;00m\n\u001b[1;32m   1275\u001b[0m )\n",
      "File \u001b[0;32m/opt/conda/lib/python3.11/site-packages/pandas/core/indexing.py:1462\u001b[0m, in \u001b[0;36m_LocIndexer._get_listlike_indexer\u001b[0;34m(self, key, axis)\u001b[0m\n\u001b[1;32m   1459\u001b[0m ax \u001b[38;5;241m=\u001b[39m \u001b[38;5;28mself\u001b[39m\u001b[38;5;241m.\u001b[39mobj\u001b[38;5;241m.\u001b[39m_get_axis(axis)\n\u001b[1;32m   1460\u001b[0m axis_name \u001b[38;5;241m=\u001b[39m \u001b[38;5;28mself\u001b[39m\u001b[38;5;241m.\u001b[39mobj\u001b[38;5;241m.\u001b[39m_get_axis_name(axis)\n\u001b[0;32m-> 1462\u001b[0m keyarr, indexer \u001b[38;5;241m=\u001b[39m \u001b[43max\u001b[49m\u001b[38;5;241;43m.\u001b[39;49m\u001b[43m_get_indexer_strict\u001b[49m\u001b[43m(\u001b[49m\u001b[43mkey\u001b[49m\u001b[43m,\u001b[49m\u001b[43m \u001b[49m\u001b[43maxis_name\u001b[49m\u001b[43m)\u001b[49m\n\u001b[1;32m   1464\u001b[0m \u001b[38;5;28;01mreturn\u001b[39;00m keyarr, indexer\n",
      "File \u001b[0;32m/opt/conda/lib/python3.11/site-packages/pandas/core/indexes/base.py:5876\u001b[0m, in \u001b[0;36mIndex._get_indexer_strict\u001b[0;34m(self, key, axis_name)\u001b[0m\n\u001b[1;32m   5873\u001b[0m \u001b[38;5;28;01melse\u001b[39;00m:\n\u001b[1;32m   5874\u001b[0m     keyarr, indexer, new_indexer \u001b[38;5;241m=\u001b[39m \u001b[38;5;28mself\u001b[39m\u001b[38;5;241m.\u001b[39m_reindex_non_unique(keyarr)\n\u001b[0;32m-> 5876\u001b[0m \u001b[38;5;28;43mself\u001b[39;49m\u001b[38;5;241;43m.\u001b[39;49m\u001b[43m_raise_if_missing\u001b[49m\u001b[43m(\u001b[49m\u001b[43mkeyarr\u001b[49m\u001b[43m,\u001b[49m\u001b[43m \u001b[49m\u001b[43mindexer\u001b[49m\u001b[43m,\u001b[49m\u001b[43m \u001b[49m\u001b[43maxis_name\u001b[49m\u001b[43m)\u001b[49m\n\u001b[1;32m   5878\u001b[0m keyarr \u001b[38;5;241m=\u001b[39m \u001b[38;5;28mself\u001b[39m\u001b[38;5;241m.\u001b[39mtake(indexer)\n\u001b[1;32m   5879\u001b[0m \u001b[38;5;28;01mif\u001b[39;00m \u001b[38;5;28misinstance\u001b[39m(key, Index):\n\u001b[1;32m   5880\u001b[0m     \u001b[38;5;66;03m# GH 42790 - Preserve name from an Index\u001b[39;00m\n",
      "File \u001b[0;32m/opt/conda/lib/python3.11/site-packages/pandas/core/indexes/base.py:5938\u001b[0m, in \u001b[0;36mIndex._raise_if_missing\u001b[0;34m(self, key, indexer, axis_name)\u001b[0m\n\u001b[1;32m   5935\u001b[0m     \u001b[38;5;28;01mraise\u001b[39;00m \u001b[38;5;167;01mKeyError\u001b[39;00m(\u001b[38;5;124mf\u001b[39m\u001b[38;5;124m\"\u001b[39m\u001b[38;5;124mNone of [\u001b[39m\u001b[38;5;132;01m{\u001b[39;00mkey\u001b[38;5;132;01m}\u001b[39;00m\u001b[38;5;124m] are in the [\u001b[39m\u001b[38;5;132;01m{\u001b[39;00maxis_name\u001b[38;5;132;01m}\u001b[39;00m\u001b[38;5;124m]\u001b[39m\u001b[38;5;124m\"\u001b[39m)\n\u001b[1;32m   5937\u001b[0m not_found \u001b[38;5;241m=\u001b[39m \u001b[38;5;28mlist\u001b[39m(ensure_index(key)[missing_mask\u001b[38;5;241m.\u001b[39mnonzero()[\u001b[38;5;241m0\u001b[39m]]\u001b[38;5;241m.\u001b[39munique())\n\u001b[0;32m-> 5938\u001b[0m \u001b[38;5;28;01mraise\u001b[39;00m \u001b[38;5;167;01mKeyError\u001b[39;00m(\u001b[38;5;124mf\u001b[39m\u001b[38;5;124m\"\u001b[39m\u001b[38;5;132;01m{\u001b[39;00mnot_found\u001b[38;5;132;01m}\u001b[39;00m\u001b[38;5;124m not in index\u001b[39m\u001b[38;5;124m\"\u001b[39m)\n",
      "\u001b[0;31mKeyError\u001b[0m: \"['ruimtelijke inrichting'] not in index\""
     ]
    }
   ],
   "source": [
    "lsa_topics.loc[:, ['DocID', 'Gemeente', 'ruimtelijke inrichting', 'Titel', 'Jaar']].sort_values('ruimtelijke inrichting', ascending=False)[0:20]\n"
   ]
  },
  {
   "cell_type": "code",
   "execution_count": null,
   "id": "b1913e80",
   "metadata": {},
   "outputs": [],
   "source": [
    "fig = sns.PairGrid(data=lsa_topics, palette=\"Blues\",\\\n",
    "    x_vars=TOPICS,\n",
    "    y_vars=['Gemeentegrootte', 'Inkomens_categorie', 'Stedelijkheidsgraad'])\n",
    "fig.map(sns.boxplot);\n"
   ]
  },
  {
   "cell_type": "code",
   "execution_count": null,
   "id": "5ee10fa4",
   "metadata": {},
   "outputs": [],
   "source": [
    "fig = sns.PairGrid(data=lsa_topics, palette=\"Blues\",\\\n",
    "    x_vars=TOPICS,\n",
    "    y_vars=['Meeste_zetels'])\n",
    "fig.map(sns.boxplot, order=[\"Lokaal\", \"SP\", \"PvdA\", \"D66\", \"CU\", \"CDA\", \"SGP\", \"VVD\"]);\n"
   ]
  },
  {
   "cell_type": "code",
   "execution_count": null,
   "id": "49e14d8f",
   "metadata": {},
   "outputs": [],
   "source": [
    "fig = sns.PairGrid(data=lsa_topics, palette=\"Blues\",\\\n",
    "    x_vars=TOPICS,\n",
    "    y_vars=['PV'])\n",
    "fig.map(sns.boxplot);\n"
   ]
  },
  {
   "cell_type": "code",
   "execution_count": null,
   "id": "12d2174e",
   "metadata": {},
   "outputs": [],
   "source": [
    "fig = sns.PairGrid(data=lsa_topics, palette=\"Blues\",\\\n",
    "    x_vars=TOPICS,\n",
    "    y_vars=['Windenergie_2012', 'Windenergie_2021', 'Windenergie_groei'])\n",
    "fig.map(sns.boxplot, order=[\"Geen\", \"Beperkt\", \"Gemiddeld\", \"Veel\"]);\n"
   ]
  },
  {
   "cell_type": "code",
   "execution_count": null,
   "id": "74271289",
   "metadata": {},
   "outputs": [],
   "source": [
    "fig = sns.PairGrid(data=lsa_topics, palette=\"Blues\",\\\n",
    "    x_vars=TOPICS,\n",
    "    y_vars=['Zonneenergie_2012', 'Zonneenergie_2021', 'Zonneenergie_groei'])\n",
    "fig.map(sns.boxplot, order=[\"Geen\", \"Beperkt\", \"Gemiddeld\", \"Veel\"]);\n"
   ]
  },
  {
   "cell_type": "code",
   "execution_count": null,
   "id": "764e0ea6",
   "metadata": {},
   "outputs": [],
   "source": [
    "fig = sns.PairGrid(data=lsa_topics, palette=\"Blues\",\\\n",
    "    x_vars=TOPICS,\n",
    "    y_vars=['Aardgas_2016_cat', 'Aardgas_2021_cat', 'Aardgas_verschil_cat'])\n",
    "fig.map(sns.boxplot);\n"
   ]
  },
  {
   "cell_type": "code",
   "execution_count": null,
   "id": "ead92bb0",
   "metadata": {},
   "outputs": [],
   "source": [
    "fig = sns.PairGrid(data=lsa_topics, palette=\"Blues\",\\\n",
    "    x_vars=TOPICS,\n",
    "    y_vars=['Elektriciteit_2016_cat', 'Elektriciteit_2021_cat', 'Elektriciteit_verschil_cat'])\n",
    "fig.map(sns.boxplot);\n"
   ]
  },
  {
   "cell_type": "markdown",
   "id": "931ac169",
   "metadata": {},
   "source": [
    "---"
   ]
  },
  {
   "cell_type": "markdown",
   "id": "c502916a",
   "metadata": {},
   "source": [
    "## Evaluation of document clusters from TF-IDF - LSA - Kmeans"
   ]
  },
  {
   "cell_type": "code",
   "execution_count": null,
   "id": "e2d1e27f",
   "metadata": {},
   "outputs": [],
   "source": [
    "# calculate chi-squared statistic for evaluation data, values lower than 0.05 the clusters are different than expected from random assignment\n",
    "variables = kmeans_clusters.columns[11:28]\n",
    "chi2_probabilities = []\n",
    "for var in variables:\n",
    "    crosstab = pd.crosstab(kmeans_clusters['labels'], kmeans_clusters[var])\n",
    "    c, p, dof, expected = chi2_contingency(crosstab)\n",
    "    chi2_probabilities.append([var, p])\n",
    "    \n",
    "chi2_probabilities_df = pd.DataFrame(chi2_probabilities, columns = [\"Variable\", \"p-value\"])\n",
    "sns.barplot(y = 'Variable', x = 'p-value', data = chi2_probabilities_df);\n"
   ]
  },
  {
   "cell_type": "code",
   "execution_count": null,
   "id": "5b6a186e",
   "metadata": {},
   "outputs": [],
   "source": [
    "provincie_crosstab = pd.crosstab(kmeans_clusters['PV'], kmeans_clusters['labels'], normalize='index')\n",
    "provincie_crosstab.plot(kind=\"bar\", stacked=True);\n"
   ]
  },
  {
   "cell_type": "code",
   "execution_count": null,
   "id": "33837829",
   "metadata": {},
   "outputs": [],
   "source": [
    "gemeentegrootte_crosstab = pd.crosstab(kmeans_clusters['Gemeentegrootte'], kmeans_clusters['labels'], normalize='index')\n",
    "gemeentegrootte_crosstab.plot(kind=\"bar\", stacked=True);\n"
   ]
  },
  {
   "cell_type": "code",
   "execution_count": null,
   "id": "b2469822",
   "metadata": {},
   "outputs": [],
   "source": [
    "inkomen_crosstab = pd.crosstab(kmeans_clusters['Inkomens_categorie'], kmeans_clusters['labels'], normalize='index')\n",
    "inkomen_crosstab.plot(kind=\"bar\", stacked=True);\n"
   ]
  },
  {
   "cell_type": "code",
   "execution_count": null,
   "id": "55211c32",
   "metadata": {},
   "outputs": [],
   "source": [
    "stedelijkheid_crosstab = pd.crosstab(kmeans_clusters['Stedelijkheidsgraad'], kmeans_clusters['labels'], normalize='index')\n",
    "stedelijkheid_crosstab.plot(kind=\"bar\", stacked=True);\n"
   ]
  },
  {
   "cell_type": "code",
   "execution_count": null,
   "id": "23875968",
   "metadata": {},
   "outputs": [],
   "source": [
    "zetels_crosstab = pd.crosstab(kmeans_clusters['Meeste_zetels'], kmeans_clusters['labels'], normalize='index')\n",
    "zetels_crosstab.plot(kind=\"bar\", stacked=True);\n"
   ]
  },
  {
   "cell_type": "code",
   "execution_count": null,
   "id": "fd75f7d4",
   "metadata": {},
   "outputs": [],
   "source": [
    "wind2012_crosstab = pd.crosstab(kmeans_clusters['Windenergie_2012'], kmeans_clusters['labels'], normalize='index')\n",
    "wind2012_crosstab.plot(kind=\"bar\", stacked=True);\n"
   ]
  },
  {
   "cell_type": "code",
   "execution_count": null,
   "id": "1c174e40",
   "metadata": {},
   "outputs": [],
   "source": [
    "zon2012_crosstab = pd.crosstab(kmeans_clusters['Zonneenergie_2012'], kmeans_clusters['labels'], normalize='index')\n",
    "zon2012_crosstab.plot(kind=\"bar\", stacked=True);\n"
   ]
  },
  {
   "cell_type": "code",
   "execution_count": null,
   "id": "2c2cab39",
   "metadata": {},
   "outputs": [],
   "source": [
    "wind2021_crosstab = pd.crosstab(kmeans_clusters['Windenergie_2021'], kmeans_clusters['labels'], normalize='index')\n",
    "wind2021_crosstab.plot(kind=\"bar\", stacked=True);\n"
   ]
  },
  {
   "cell_type": "code",
   "execution_count": null,
   "id": "84c1c42e",
   "metadata": {},
   "outputs": [],
   "source": [
    "zon2021_crosstab = pd.crosstab(kmeans_clusters['Zonneenergie_2021'], kmeans_clusters['labels'], normalize='index')\n",
    "zon2021_crosstab.plot(kind=\"bar\", stacked=True);\n"
   ]
  },
  {
   "cell_type": "code",
   "execution_count": null,
   "id": "490f9804",
   "metadata": {},
   "outputs": [],
   "source": [
    "windgroei_crosstab = pd.crosstab(kmeans_clusters['Windenergie_groei'], kmeans_clusters['labels'], normalize='index')\n",
    "windgroei_crosstab.plot(kind=\"bar\", stacked=True);\n"
   ]
  },
  {
   "cell_type": "code",
   "execution_count": null,
   "id": "1e53c3ab",
   "metadata": {},
   "outputs": [],
   "source": [
    "zongroei_crosstab = pd.crosstab(kmeans_clusters['Zonneenergie_groei'], kmeans_clusters['labels'], normalize='index')\n",
    "zongroei_crosstab.plot(kind=\"bar\", stacked=True);\n"
   ]
  },
  {
   "cell_type": "code",
   "execution_count": null,
   "id": "e83a2b63",
   "metadata": {},
   "outputs": [],
   "source": [
    "aardgas2016_crosstab = pd.crosstab(kmeans_clusters['Aardgas_2016_cat'], kmeans_clusters['labels'], normalize='index')\n",
    "aardgas2016_crosstab.plot(kind=\"bar\", stacked=True);\n"
   ]
  },
  {
   "cell_type": "code",
   "execution_count": null,
   "id": "a5b8dc2f",
   "metadata": {},
   "outputs": [],
   "source": [
    "elektriciteit2016_crosstab = pd.crosstab(kmeans_clusters['Elektriciteit_2016_cat'], kmeans_clusters['labels'], normalize='index')\n",
    "elektriciteit2016_crosstab.plot(kind=\"bar\", stacked=True);\n"
   ]
  },
  {
   "cell_type": "code",
   "execution_count": null,
   "id": "3f8b343e",
   "metadata": {},
   "outputs": [],
   "source": [
    "aardgas2021_crosstab = pd.crosstab(kmeans_clusters['Aardgas_2021_cat'], kmeans_clusters['labels'], normalize='index')\n",
    "aardgas2021_crosstab.plot(kind=\"bar\", stacked=True);\n"
   ]
  },
  {
   "cell_type": "code",
   "execution_count": null,
   "id": "e31e42fe",
   "metadata": {},
   "outputs": [],
   "source": [
    "elektriciteit2021_crosstab = pd.crosstab(kmeans_clusters['Elektriciteit_2021_cat'], kmeans_clusters['labels'], normalize='index')\n",
    "elektriciteit2021_crosstab.plot(kind=\"bar\", stacked=True);\n"
   ]
  },
  {
   "cell_type": "code",
   "execution_count": null,
   "id": "224751af",
   "metadata": {},
   "outputs": [],
   "source": [
    "aardgasverschil_crosstab = pd.crosstab(kmeans_clusters['Aardgas_verschil_cat'], kmeans_clusters['labels'], normalize='index')\n",
    "aardgasverschil_crosstab.plot(kind=\"bar\", stacked=True);\n"
   ]
  },
  {
   "cell_type": "code",
   "execution_count": null,
   "id": "a9f3bde4",
   "metadata": {},
   "outputs": [],
   "source": [
    "elektriciteitverschil_crosstab = pd.crosstab(kmeans_clusters['Elektriciteit_verschil_cat'], kmeans_clusters['labels'], normalize='index')\n",
    "elektriciteitverschil_crosstab.plot(kind=\"bar\", stacked=True);\n"
   ]
  },
  {
   "cell_type": "code",
   "execution_count": null,
   "id": "cbd1c35c",
   "metadata": {},
   "outputs": [],
   "source": []
  }
 ],
 "metadata": {
  "kernelspec": {
   "display_name": "Python 3 (ipykernel)",
   "language": "python",
   "name": "python3"
  },
  "language_info": {
   "codemirror_mode": {
    "name": "ipython",
    "version": 3
   },
   "file_extension": ".py",
   "mimetype": "text/x-python",
   "name": "python",
   "nbconvert_exporter": "python",
   "pygments_lexer": "ipython3",
   "version": "3.11.4"
  }
 },
 "nbformat": 4,
 "nbformat_minor": 5
}
